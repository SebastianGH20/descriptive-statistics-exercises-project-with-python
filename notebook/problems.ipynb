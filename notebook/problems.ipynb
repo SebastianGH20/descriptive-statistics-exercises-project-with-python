{
    "cells": [
        {
            "cell_type": "markdown",
            "id": "ac622319",
            "metadata": {},
            "source": [
                "# Descriptive statistics problems"
            ]
        },
        {
            "cell_type": "markdown",
            "id": "5e0ab0d5",
            "metadata": {},
            "source": [
                "### Exercise 1\n",
                "\n",
                "We will use NumPy to obtain information to describe statistically.\n",
                "\n",
                "- Generate an array of 100 elements following a normal distribution.\n",
                "- Generate an array of 100 elements following a chi-square distribution with 3 degrees of freedom.\n",
                "- Calculate the main metrics and statistical measures that best describe the two vectors."
            ]
        },
        {
            "cell_type": "code",
            "execution_count": 2,
            "id": "34720ab6",
            "metadata": {},
            "outputs": [
                {
                    "name": "stdout",
                    "output_type": "stream",
                    "text": [
                        "      Normal  Chi-Cuadrado\n",
                        "0   1.099245      3.345644\n",
                        "1  -1.415855      2.644525\n",
                        "2  -0.169475      3.374864\n",
                        "3  -0.681110      3.067405\n",
                        "4   0.971224      1.395871\n",
                        "..       ...           ...\n",
                        "95  0.325313      1.050224\n",
                        "96 -0.465964      3.914385\n",
                        "97  0.919621      1.320237\n",
                        "98  0.228529      4.389649\n",
                        "99 -0.627810      1.753085\n",
                        "\n",
                        "[100 rows x 2 columns]\n"
                    ]
                }
            ],
            "source": [
                "import numpy as np\n",
                "import pandas as pd\n",
                "\n",
                "data_1 = np.random.normal(loc=0, scale=1, size=100)\n",
                "data_2 = np.random.chisquare(df=3, size=100)\n",
                "\n",
                "df = pd.DataFrame({\n",
                "    'Normal': data_1,\n",
                "    'Chi-Cuadrado': data_2\n",
                "})\n",
                "\n",
                "\n",
                "print(df)"
            ]
        },
        {
            "cell_type": "code",
            "execution_count": 4,
            "id": "1b9499fd",
            "metadata": {},
            "outputs": [
                {
                    "name": "stdout",
                    "output_type": "stream",
                    "text": [
                        "La media de la columna 'Normal' : 0.04002135447693789\n",
                        "La media de la columna 'Chi-Cuadrado' : 3.3305360234506054\n"
                    ]
                }
            ],
            "source": [
                "# MEAN\n",
                "\n",
                "mean_normal = df['Normal'].mean()\n",
                "mean_chi_cuadrado = df['Chi-Cuadrado'].mean()\n",
                "\n",
                "print(f\"La media de la columna 'Normal' : {mean_normal}\")\n",
                "print(f\"La media de la columna 'Chi-Cuadrado' : {mean_chi_cuadrado}\")\n"
            ]
        },
        {
            "cell_type": "code",
            "execution_count": 5,
            "id": "c6ca9f7b",
            "metadata": {},
            "outputs": [
                {
                    "name": "stdout",
                    "output_type": "stream",
                    "text": [
                        "La mediana de la columna 'Normal' : -0.00011197220739948182\n",
                        "La mediana de la columna 'Chi-Cuadrado' : 2.3816792717203876\n"
                    ]
                }
            ],
            "source": [
                "# MEDIAN\n",
                "\n",
                "median_normal = df['Normal'].median()\n",
                "median_chi_cuadrado = df['Chi-Cuadrado'].median()\n",
                "\n",
                "print(f\"La mediana de la columna 'Normal' : {median_normal}\")\n",
                "print(f\"La mediana de la columna 'Chi-Cuadrado' : {median_chi_cuadrado}\")"
            ]
        },
        {
            "cell_type": "code",
            "execution_count": 6,
            "id": "11129e84",
            "metadata": {},
            "outputs": [
                {
                    "name": "stdout",
                    "output_type": "stream",
                    "text": [
                        "La moda de la columna 'Normal' : 0    -3.015642\n",
                        "1    -1.797610\n",
                        "2    -1.719992\n",
                        "3    -1.709355\n",
                        "4    -1.662944\n",
                        "        ...   \n",
                        "95    1.873978\n",
                        "96    1.985253\n",
                        "97    2.063435\n",
                        "98    2.078066\n",
                        "99    2.173016\n",
                        "Name: Normal, Length: 100, dtype: float64\n",
                        "La moda de la columna 'Chi-Cuadrado' : 0      0.084024\n",
                        "1      0.122497\n",
                        "2      0.127377\n",
                        "3      0.130170\n",
                        "4      0.137240\n",
                        "        ...    \n",
                        "95     9.152815\n",
                        "96    11.737730\n",
                        "97    11.792590\n",
                        "98    12.548549\n",
                        "99    16.323981\n",
                        "Name: Chi-Cuadrado, Length: 100, dtype: float64\n"
                    ]
                }
            ],
            "source": [
                "#MODE\n",
                "\n",
                "mode_normal = df['Normal'].mode()\n",
                "mode_chi_cuadrado = df['Chi-Cuadrado'].mode()\n",
                "\n",
                "print(f\"La moda de la columna 'Normal' : {mode_normal}\")\n",
                "print(f\"La moda de la columna 'Chi-Cuadrado' : {mode_chi_cuadrado}\")\n"
            ]
        },
        {
            "cell_type": "code",
            "execution_count": 8,
            "id": "18907510",
            "metadata": {},
            "outputs": [
                {
                    "name": "stdout",
                    "output_type": "stream",
                    "text": [
                        "El rango de la columna 'Normal' : 5.188658337711057\n",
                        "El rango de la columna 'Chi-Cuadrado' : 16.23995662174087\n"
                    ]
                }
            ],
            "source": [
                "#RANGE\n",
                "\n",
                "range_normal = df['Normal'].max() - df['Normal'].min() \n",
                "range_chi_cuadrado = df['Chi-Cuadrado'].max() - df['Chi-Cuadrado'].min() \n",
                "\n",
                "print(f\"El rango de la columna 'Normal' : {range_normal}\")\n",
                "print(f\"El rango de la columna 'Chi-Cuadrado' : {range_chi_cuadrado}\")"
            ]
        },
        {
            "cell_type": "code",
            "execution_count": 11,
            "id": "5aa8a7a9",
            "metadata": {},
            "outputs": [
                {
                    "name": "stdout",
                    "output_type": "stream",
                    "text": [
                        "Desviacion estandar para columna 'Normal' : 1.0000764953691719\n",
                        "Desviacion estandar para columna 'Chi-Cuadrado' : 2.9600355485294076\n",
                        "Varianza para columna 'Normal' : 1.0001529965898854\n",
                        "Varianza para columna 'Chi-Cuadrado' : 8.76181044855779\n"
                    ]
                }
            ],
            "source": [
                "#Variance and standard deviation\n",
                "\n",
                "std_normal = df['Normal'].std()  \n",
                "std_chi_cuadrado = df['Chi-Cuadrado'].std()\n",
                "var_normal = df['Normal'].var()  \n",
                "var_chi_cuadrado = df['Chi-Cuadrado'].var() \n",
                "\n",
                "print(f\"Desviacion estandar para columna 'Normal' : {std_normal}\")\n",
                "print(f\"Desviacion estandar para columna 'Chi-Cuadrado' : {std_chi_cuadrado}\")\n",
                "print(f\"Varianza para columna 'Normal' : {var_normal}\")\n",
                "print(f\"Varianza para columna 'Chi-Cuadrado' : {var_chi_cuadrado}\")"
            ]
        },
        {
            "cell_type": "code",
            "execution_count": 15,
            "id": "da695516",
            "metadata": {},
            "outputs": [
                {
                    "ename": "ModuleNotFoundError",
                    "evalue": "No module named 'scipy'",
                    "output_type": "error",
                    "traceback": [
                        "\u001b[1;31m---------------------------------------------------------------------------\u001b[0m",
                        "\u001b[1;31mModuleNotFoundError\u001b[0m                       Traceback (most recent call last)",
                        "Cell \u001b[1;32mIn[15], line 2\u001b[0m\n\u001b[0;32m      1\u001b[0m \u001b[38;5;66;03m#SKEWNESS\u001b[39;00m\n\u001b[1;32m----> 2\u001b[0m \u001b[38;5;28;01mfrom\u001b[39;00m \u001b[38;5;21;01mscipy\u001b[39;00m\u001b[38;5;21;01m.\u001b[39;00m\u001b[38;5;21;01mstats\u001b[39;00m \u001b[38;5;28;01mimport\u001b[39;00m skew\n\u001b[0;32m      4\u001b[0m skew_normal \u001b[38;5;241m=\u001b[39m skew(data_1)\n\u001b[0;32m      5\u001b[0m skew_chi \u001b[38;5;241m=\u001b[39m skew(data_2)\n",
                        "\u001b[1;31mModuleNotFoundError\u001b[0m: No module named 'scipy'"
                    ]
                }
            ],
            "source": [
                "#SKEWNESS\n",
                "from scipy.stats import skew\n",
                "\n",
                "skew_normal = skew(data_1)\n",
                "skew_chi = skew(data_2)\n",
                "\n",
                "print(f\"Normal skewness: {skew_normal}\")\n",
                "print(f\"Chi skewness: {skew_chi}\")"
            ]
        },
        {
            "cell_type": "code",
            "execution_count": null,
            "id": "c4b61d84",
            "metadata": {},
            "outputs": [],
            "source": [
                "from scipy.stats import kurtosis\n",
                "\n",
                "kurt_normal = kurtosis(data_1)\n",
                "kurt_chi = kurtosis(data_2)\n",
                "\n",
                "print(f\"Normal kurtosis: {kurt_normal}\")\n",
                "print(f\"Chi kurtosis: {kurt_chi}\")"
            ]
        },
        {
            "cell_type": "markdown",
            "id": "46c70c3d",
            "metadata": {},
            "source": [
                "### Exercise 2\n",
                "\n",
                "Write a Python program to calculate the standard deviation of the following data:\n",
                "\n",
                "```py\n",
                "data = [4, 2, 5, 8, 6]\n",
                "```"
            ]
        },
        {
            "cell_type": "code",
            "execution_count": 18,
            "id": "d590308e",
            "metadata": {},
            "outputs": [
                {
                    "name": "stdout",
                    "output_type": "stream",
                    "text": [
                        "2.23606797749979\n"
                    ]
                }
            ],
            "source": [
                "from math import sqrt\n",
                "\n",
                "data = [4, 2, 5, 8, 6]\n",
                "\n",
                "def std_data(data):\n",
                "    mean_data = sum(data) / len(data)\n",
                "\n",
                "    distance = 0\n",
                "    for x in data:\n",
                "        calc_distance = (x - mean_data) ** 2\n",
                "        distance += calc_distance\n",
                "        \n",
                "    variance = distance / (len(data) - 1 )\n",
                "    \n",
                "    return variance ** 0.5\n",
                "\n",
                "print(std_data(data))"
            ]
        }
    ],
    "metadata": {
        "interpreter": {
            "hash": "9248718ffe6ce6938b217e69dbcc175ea21f4c6b28a317e96c05334edae734bb"
        },
        "kernelspec": {
            "display_name": "Python 3.9.12 ('ML-BOOTCAMP')",
            "language": "python",
            "name": "python3"
        },
        "language_info": {
            "codemirror_mode": {
                "name": "ipython",
                "version": 3
            },
            "file_extension": ".py",
            "mimetype": "text/x-python",
            "name": "python",
            "nbconvert_exporter": "python",
            "pygments_lexer": "ipython3",
            "version": "3.12.0"
        }
    },
    "nbformat": 4,
    "nbformat_minor": 5
}
